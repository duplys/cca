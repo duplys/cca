{
  "nbformat": 4,
  "nbformat_minor": 0,
  "metadata": {
    "colab": {
      "name": "Component Coupling Analysis.ipynb",
      "provenance": [],
      "collapsed_sections": [],
      "authorship_tag": "ABX9TyPBBan4sEQ7H5/8DCyZj2rO",
      "include_colab_link": true
    },
    "kernelspec": {
      "name": "python3",
      "display_name": "Python 3"
    },
    "language_info": {
      "name": "python"
    }
  },
  "cells": [
    {
      "cell_type": "markdown",
      "metadata": {
        "id": "view-in-github",
        "colab_type": "text"
      },
      "source": [
        "<a href=\"https://colab.research.google.com/github/duplys/cca/blob/main/Component_Coupling_Analysis.ipynb\" target=\"_parent\"><img src=\"https://colab.research.google.com/assets/colab-badge.svg\" alt=\"Open In Colab\"/></a>"
      ]
    },
    {
      "cell_type": "markdown",
      "source": [
        "## Stable Dependencies Principle\n",
        "The Stable Dependencies Principle (SDP) states that components must _depend in the direction of stability_. SDP ensures that modules that are intended to be easy to change are not depended on by modules that are harder to change.\n",
        "\n",
        "Some volatility is necessary for the maintenance of a code base. Thus, some software components are _expected_ to change and are therefore _designed_ to be volatile. Components expected to be volatile must not be depended on by components that are difficult to change (otherwise, the volatile component will be de facto difficult to change).\n",
        "\n",
        "One sure way&mdash;besides size, complexity, clarity, etc.&mdash;to make a software component difficult to change is to make lots of other software components depend on it. A component with lots of incoming dependencies is very stable because it requires a great deal of work to reconcile any changes with all the dependent components.\n",
        "\n",
        "### Stability Metrics\n",
        "Counting dependencies that enter and leave a component allows us to calculate the _positional_ stability of that component.\n",
        "\n",
        "* _Fan-in_: Incoming dependencies, i.e., number of classes outside the component that depend on classes within the component.\n",
        "* _Fan-out_: Outgoing dependencies, i.e., number of classes inside a component that depend on classes outside the component.\n",
        "* _I_: Instability. $I = \\textrm{Fan-out} \\div (\\textrm{Fan-in} + \\textrm{Fan-out})$. This metric has the range $[0,1]$. $I = 0$ indicates a maximally stable component, $I=1$ indicates a maximally unstable component."
      ],
      "metadata": {
        "id": "wPyD0SSVjsGB"
      }
    },
    {
      "cell_type": "code",
      "execution_count": null,
      "metadata": {
        "colab": {
          "base_uri": "https://localhost:8080/"
        },
        "id": "qS_rCN6FjdBI",
        "outputId": "9145918d-f04d-4d04-ecdd-6226c17e1ee1"
      },
      "outputs": [
        {
          "output_type": "stream",
          "name": "stdout",
          "text": [
            "=== Instability ===\n",
            "{'componentA': 0.43, 'componentB': 0.0, 'componentC': 1.0}\n"
          ]
        }
      ],
      "source": [
        "from typing import Dict\n",
        "import logging\n",
        "\n",
        "\n",
        "# create logger\n",
        "logger = logging.getLogger('simple')\n",
        "logger.setLevel(logging.DEBUG)\n",
        "\n",
        "# create console handler and set level to debug\n",
        "ch = logging.StreamHandler()\n",
        "ch.setLevel(logging.DEBUG)\n",
        "\n",
        "# add ch to logger\n",
        "logger.addHandler(ch)\n",
        "\n",
        "\n",
        "dependencies = {'componentA': {'fan_in': 4, 'fan_out': 3},\n",
        "                'componentB': {'fan_in': 6, 'fan_out': 0},\n",
        "                'componentC': {'fan_in': 0, 'fan_out': 10}}\n",
        "\n",
        "\n",
        "\n",
        "def compute_instability(depedencies) -> Dict:\n",
        "  instability = {}\n",
        "\n",
        "  for c in dependencies:\n",
        "    fan_in = dependencies[c]['fan_in']\n",
        "    fan_out = dependencies[c]['fan_out']\n",
        "    i = fan_out / (fan_in + fan_out)\n",
        "    log_data = \"fan_in {}, fan_out {}, i {}\".format(fan_in, fan_out, i)\n",
        "    #logger.debug(log_data)\n",
        "    #print(\"fan_in {}, fan_out {}, i {}\".format(fan_in, fan_out, i))\n",
        "    instability[c] = round(i,2)\n",
        "\n",
        "  return instability\n",
        "\n",
        "inst = compute_instability(dependencies)\n",
        "\n",
        "print(\"=== Instability ===\")\n",
        "print(inst)\n"
      ]
    },
    {
      "cell_type": "markdown",
      "source": [
        "## Stable Abstractions Principle\n",
        "The Stable Abstractions Principle (SAP) states that a _component should be as abstract as it is stable_, i.e., it sets up a relationship between stability and abstractness. It says that a stable component should also be abstract so that its stability does not prevent it from being extended. On the other hand, it says that an unstable component should be concrete since its instability allows the concrete code within it to be easily changed.\n",
        "\n",
        "Thus, if a component is _stable_, it should consist of interfaces and abstract classes so taht it can be extended. Stable components that are extensible are flexible and do not overly constrain the architecture.\n",
        "\n",
        "### Measuring Abstraction\n",
        "The measure of abstractness is simply the ratio of interfaces and abstract classes in a component to the total number of classes in the component.\n",
        "* $Nc$: The number of classes in the component\n",
        "* $Na$: The number of abstract classes and interfaces in the component\n",
        "* $A$: Abstractness. $A = Na \\div Nc$\n",
        "\n",
        "Metric $A$ ranges from 0 to 1. A value of 0 implies that the component has no abstract classes at all. A value of 1 implies that the component contains nothing but abstract classes."
      ],
      "metadata": {
        "id": "P46bN48Ao6FY"
      }
    },
    {
      "cell_type": "code",
      "source": [
        "components = {'componentA': {'abcif': 3, 'num_classes': 4},\n",
        "              'componentB': {'abcif': 6, 'num_classes': 6},\n",
        "              'componentC': {'abcif': 0, 'num_classes': 10}}\n",
        "\n",
        "def compute_abstractness(components) -> Dict:\n",
        "  abstractness = {}\n",
        "\n",
        "  for c in components:\n",
        "    ac = components[c]['abcif']\n",
        "    tc = components[c]['num_classes']\n",
        "    a =  ac / tc\n",
        "    log_data = \"abstr {}, total {}, a {}\".format(ac, tc, a)\n",
        "    abstractness[c] = round(a,2)\n",
        "\n",
        "  return abstractness\n",
        "\n",
        "abstr = compute_abstractness(components)\n",
        "\n",
        "print(\"=== Abstractness ===\")\n",
        "print(abstr)"
      ],
      "metadata": {
        "colab": {
          "base_uri": "https://localhost:8080/"
        },
        "id": "byvWy-fB5dSI",
        "outputId": "e2fd4b85-bcd5-4acc-efd5-f68b9fb8dc4f"
      },
      "execution_count": null,
      "outputs": [
        {
          "output_type": "stream",
          "name": "stdout",
          "text": [
            "=== Abstractness ===\n",
            "{'componentA': 0.75, 'componentB': 1.0, 'componentC': 0.0}\n"
          ]
        }
      ]
    },
    {
      "cell_type": "markdown",
      "source": [
        "## The Main Sequence\n",
        "To define the desired relationship between stability ($I$) and abstractness ($A$), we create a graph with $A$ on the vertical axis and $I$ on the horizontal axis. Components that are maximally stable and abstract are at the upper left at (0,1) and components that are maximally unstable and concrete are at the lower right at (1,0).\n",
        "\n",
        "Most components should be kept on the Main Sequence, a line that connects  because components that sit on the Main Sequence are not \"too abstract\" for their stability, nor \"too stable\" for their abstractness.\n",
        "\n",
        "Lower left area near (0,0) (zone of pain) is not desirable because these components are highly stable and concrete. Components in this zone are rigid: they cannot be extended because they are not abstract, and they are very difficult to change because of their stability. \n",
        "\n",
        "Upper right area near (1,1) (zone of uselessnesss) is also undesirable because they are maximally abstract, yet have no dependents. Such components are useless because these are abstract classes that no one ever implemented.\n",
        "\n",
        "As a result, components have the best characteristics if they are on, or _close_, to the Main Sequence.\n",
        "\n",
        "## Distance from the Main Sequence\n",
        "This metric measures how far away a component is from the Main Sequence.\n",
        "\n",
        "* $D$: Distance. $D = | A + I - 1|$. The range of this metric is $[0,1]$. A value of 0 indicates that the component sits directly on the Main Sequence. A value of 1 indicates that the component is as far away from the Main sequence of possible.\n",
        "\n",
        "Given this metrics, a code base can be analyzed for its overall conformance to the Main Sequence. Any component with $D$ value that is not near zero should be reexamined and refactored.\n",
        "\n",
        "Statistical analysis of a design is also possible. We can calculate the mean and variance of all the $D$ metrics for the components within a single code base. We would expect a conforming design to have a mean and variance that are close to zero. The variance can be used to establish \"control limits\" so as to identify components that are \"exceptional\" in comparison to all the others. So the idea is to produce a scatterplot for how the individual components are distributed around the Main Sequence.\n",
        "\n",
        "Another way to use metric $D$ is to plot it for each component over time. This allows to see e.g., that strange dependencies creep in over time. This also allows to introduce a control threshold. \n",
        "\n"
      ],
      "metadata": {
        "id": "Dxo2D0HX9TTn"
      }
    },
    {
      "cell_type": "code",
      "source": [
        "#print(inst)\n",
        "#print(abstr)\n",
        "\n",
        "def compute_distance(instability, abstractness) -> Dict:\n",
        "  distance = {}\n",
        "\n",
        "  for c in inst:\n",
        "    d = abstr[c] + inst[c] - 1\n",
        "    log_data = \"abstr {}, inst {}, d {}\".format(abstr[c], inst[c], d)\n",
        "    distance[c] = round(d,2)\n",
        "    \n",
        "  return distance\n",
        "\n",
        "dist = compute_distance(inst, abstr)\n",
        "\n",
        "print(\"=== Distance ===\")\n",
        "print(dist)\n",
        "\n"
      ],
      "metadata": {
        "colab": {
          "base_uri": "https://localhost:8080/"
        },
        "id": "M1u_SGQHCloR",
        "outputId": "4ec10b6d-dbe3-4825-8d2e-b7a460ba160c"
      },
      "execution_count": null,
      "outputs": [
        {
          "output_type": "stream",
          "name": "stdout",
          "text": [
            "=== Distance ===\n",
            "{'componentA': 0.18, 'componentB': 0.0, 'componentC': 0.0}\n"
          ]
        }
      ]
    }
  ]
}